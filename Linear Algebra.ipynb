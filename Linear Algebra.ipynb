{
 "cells": [
  {
   "cell_type": "code",
   "execution_count": 41,
   "metadata": {
    "collapsed": true
   },
   "outputs": [],
   "source": [
    "import math\n",
    "from functools import reduce"
   ]
  },
  {
   "cell_type": "code",
   "execution_count": 59,
   "metadata": {
    "collapsed": false
   },
   "outputs": [],
   "source": [
    "class ShapeException(Exception):\n",
    "    pass\n",
    "\n",
    "class Vector:\n",
    "    def __init__(self, vec):\n",
    "        self._vec = vec\n",
    "        \n",
    "    def shape(self):\n",
    "        return len(self._vec)\n",
    "    \n",
    "    def _check_vec(self, other):\n",
    "        if isinstance(other, Vector):\n",
    "            if self.shape() != other.shape():\n",
    "                raise ShapeException(\"Shapes {} and {} are not the same\".format(self.shape(), other.shape()))\n",
    "            else:\n",
    "                return other\n",
    "        elif isinstance(other, list):\n",
    "            if self.shape() != len(other):\n",
    "                raise ShapeException(\"Shapes {} and {} are not the same\".format(self.shape(), len(other)))\n",
    "            else:\n",
    "                return Vector(other)\n",
    "        else:\n",
    "            raise TypeError(\"{} is not a Vector\".format(other))\n",
    "\n",
    "    def __add__(self, other):\n",
    "        other = self._check_vec(other)\n",
    "        return Vector([v_i + w_i\n",
    "                       for v_i, w_i in zip(self._vec, other._vec)])\n",
    "    \n",
    "    def __radd__(self, other):\n",
    "        return self + other\n",
    "                \n",
    "    def __sub__(self, other):\n",
    "        other = self._check_vec(other)\n",
    "        return Vector([v_i - w_i\n",
    "                       for v_i, w_i in zip(self._vec, other._vec)])\n",
    "    \n",
    "    def __rsub__(self, other):\n",
    "        return self - other    \n",
    "    \n",
    "    def __mul__(self, scalar):\n",
    "        return Vector([scalar * v_i for v_i in self._vec])\n",
    "    \n",
    "    def __rmul__(self, scalar):\n",
    "        return self * scalar\n",
    "\n",
    "    def __str__(self):\n",
    "        return \"Vector({})\".format(self._vec)\n",
    "    \n",
    "    def __repr__(self):\n",
    "        return self.__str__()\n",
    "    \n",
    "    def sum(self, *vectors):\n",
    "        return reduce(Vector.__add__, vectors, self)\n",
    "    \n",
    "    def mean(self, *vectors):\n",
    "        sum = self.sum(*vectors)\n",
    "        return sum * (1 / (len(vectors) + 1))\n",
    "    \n",
    "    def dot(self, other):\n",
    "        other = self._check_vec(other)\n",
    "        return sum(v_i * w_i for v_i, w_i in zip(self._vec, other._vec))\n",
    "    \n",
    "    def _sum_of_squares(self):\n",
    "        return self.dot(self)\n",
    "    \n",
    "    def magnitude(self):\n",
    "        return math.sqrt(self._sum_of_squares())\n",
    "    \n",
    "    def distance(self, other):\n",
    "        squared_difference = (self - other)._sum_of_squares()\n",
    "        return math.sqrt(squared_difference)\n",
    "    \n"
   ]
  },
  {
   "cell_type": "code",
   "execution_count": 60,
   "metadata": {
    "collapsed": false
   },
   "outputs": [
    {
     "data": {
      "text/plain": [
       "Vector([3, 4])"
      ]
     },
     "execution_count": 60,
     "metadata": {},
     "output_type": "execute_result"
    }
   ],
   "source": [
    "Vector([1, 1]) + Vector([2, 3])"
   ]
  },
  {
   "cell_type": "code",
   "execution_count": 61,
   "metadata": {
    "collapsed": false
   },
   "outputs": [
    {
     "data": {
      "text/plain": [
       "Vector([3, 4])"
      ]
     },
     "execution_count": 61,
     "metadata": {},
     "output_type": "execute_result"
    }
   ],
   "source": [
    "Vector([1, 1]) + [2, 3]"
   ]
  },
  {
   "cell_type": "code",
   "execution_count": 62,
   "metadata": {
    "collapsed": false
   },
   "outputs": [
    {
     "data": {
      "text/plain": [
       "Vector([3, 4])"
      ]
     },
     "execution_count": 62,
     "metadata": {},
     "output_type": "execute_result"
    }
   ],
   "source": [
    "[2, 3] + Vector([1, 1])"
   ]
  },
  {
   "cell_type": "code",
   "execution_count": 64,
   "metadata": {
    "collapsed": false
   },
   "outputs": [
    {
     "data": {
      "text/plain": [
       "Vector([4, 6])"
      ]
     },
     "execution_count": 64,
     "metadata": {},
     "output_type": "execute_result"
    }
   ],
   "source": [
    "2 * Vector([2, 3])"
   ]
  },
  {
   "cell_type": "code",
   "execution_count": 63,
   "metadata": {
    "collapsed": false
   },
   "outputs": [
    {
     "data": {
      "text/plain": [
       "Vector([13, 16])"
      ]
     },
     "execution_count": 63,
     "metadata": {},
     "output_type": "execute_result"
    }
   ],
   "source": [
    "Vector([1, 1]).sum(Vector([2, 3]), Vector([4, 5]), Vector([6, 7]))"
   ]
  },
  {
   "cell_type": "code",
   "execution_count": 46,
   "metadata": {
    "collapsed": false
   },
   "outputs": [
    {
     "data": {
      "text/plain": [
       "Vector([13, 16])"
      ]
     },
     "execution_count": 46,
     "metadata": {},
     "output_type": "execute_result"
    }
   ],
   "source": [
    "Vector([1, 1]).sum([2, 3], Vector([4, 5]), Vector([6, 7]))"
   ]
  },
  {
   "cell_type": "code",
   "execution_count": 47,
   "metadata": {
    "collapsed": false
   },
   "outputs": [
    {
     "data": {
      "text/plain": [
       "Vector([2.0, 3.0])"
      ]
     },
     "execution_count": 47,
     "metadata": {},
     "output_type": "execute_result"
    }
   ],
   "source": [
    "Vector([1, 1]).mean([2, 2], [3, 6])"
   ]
  },
  {
   "cell_type": "code",
   "execution_count": 48,
   "metadata": {
    "collapsed": false
   },
   "outputs": [
    {
     "data": {
      "text/plain": [
       "4"
      ]
     },
     "execution_count": 48,
     "metadata": {},
     "output_type": "execute_result"
    }
   ],
   "source": [
    "Vector([1, 1]).dot([2, 2])"
   ]
  },
  {
   "cell_type": "code",
   "execution_count": 49,
   "metadata": {
    "collapsed": false
   },
   "outputs": [
    {
     "data": {
      "text/plain": [
       "12"
      ]
     },
     "execution_count": 49,
     "metadata": {},
     "output_type": "execute_result"
    }
   ],
   "source": [
    "Vector([2, 1]).dot([3, 6])"
   ]
  },
  {
   "cell_type": "code",
   "execution_count": 55,
   "metadata": {
    "collapsed": false
   },
   "outputs": [
    {
     "data": {
      "text/plain": [
       "5.0"
      ]
     },
     "execution_count": 55,
     "metadata": {},
     "output_type": "execute_result"
    }
   ],
   "source": [
    "Vector([1, 1]).distance([4, 5])"
   ]
  },
  {
   "cell_type": "code",
   "execution_count": 71,
   "metadata": {
    "collapsed": true
   },
   "outputs": [],
   "source": [
    "class Matrix:\n",
    "    def __init__(self, matrix):\n",
    "        self._matrix = matrix\n",
    "        \n",
    "    def __str__(self):\n",
    "        return \"Matrix({})\".format(self._matrix)\n",
    "    \n",
    "    def __repr__(self):\n",
    "        return self.__str__()        \n",
    "        \n",
    "    def shape(self):\n",
    "        num_rows = len(self._matrix)\n",
    "        num_cols = len(self._matrix[0]) if self._matrix else 0\n",
    "        return num_rows, num_cols\n",
    "    \n",
    "    def row(self, i):\n",
    "        return self._matrix[i]\n",
    "    \n",
    "    def column(self, j):\n",
    "        return [row[j] for row in self._matrix]\n",
    "    \n",
    "    @classmethod\n",
    "    def make(cls, rows, cols, fn):\n",
    "        return cls([[fn(i, j)\n",
    "                      for j in range(cols)]\n",
    "                    for i in range(rows)])\n",
    "    \n",
    "    "
   ]
  },
  {
   "cell_type": "code",
   "execution_count": 72,
   "metadata": {
    "collapsed": true
   },
   "outputs": [],
   "source": [
    "def is_diagonal(i, j):\n",
    "    return 1 if i == j else 0"
   ]
  },
  {
   "cell_type": "code",
   "execution_count": 73,
   "metadata": {
    "collapsed": false
   },
   "outputs": [
    {
     "data": {
      "text/plain": [
       "Matrix([[1, 0, 0, 0, 0], [0, 1, 0, 0, 0], [0, 0, 1, 0, 0], [0, 0, 0, 1, 0], [0, 0, 0, 0, 1]])"
      ]
     },
     "execution_count": 73,
     "metadata": {},
     "output_type": "execute_result"
    }
   ],
   "source": [
    "Matrix.make(5, 5, is_diagonal)"
   ]
  },
  {
   "cell_type": "code",
   "execution_count": null,
   "metadata": {
    "collapsed": true
   },
   "outputs": [],
   "source": []
  }
 ],
 "metadata": {
  "kernelspec": {
   "display_name": "Python 3",
   "language": "python",
   "name": "python3"
  },
  "language_info": {
   "codemirror_mode": {
    "name": "ipython",
    "version": 3
   },
   "file_extension": ".py",
   "mimetype": "text/x-python",
   "name": "python",
   "nbconvert_exporter": "python",
   "pygments_lexer": "ipython3",
   "version": "3.5.1"
  }
 },
 "nbformat": 4,
 "nbformat_minor": 0
}
